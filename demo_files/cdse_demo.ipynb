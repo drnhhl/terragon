{
 "cells": [
  {
   "cell_type": "code",
   "execution_count": 1,
   "metadata": {},
   "outputs": [
    {
     "name": "stderr",
     "output_type": "stream",
     "text": [
      "c:\\Users\\hoeh_pa\\AppData\\Local\\miniconda3\\envs\\sits\\Lib\\site-packages\\tqdm\\auto.py:21: TqdmWarning: IProgress not found. Please update jupyter and ipywidgets. See https://ipywidgets.readthedocs.io/en/stable/user_install.html\n",
      "  from .autonotebook import tqdm as notebook_tqdm\n"
     ]
    }
   ],
   "source": [
    "import EOVoxelCraft as eovc\n",
    "import geopandas as gpd\n",
    "from pathlib import Path"
   ]
  },
  {
   "cell_type": "code",
   "execution_count": 2,
   "metadata": {},
   "outputs": [],
   "source": [
    "crafter = eovc.init('cdse')\n",
    "credentials_path = Path(r\"C:\\Users\\hoeh_pa\\Desktop\\EOVoxelCraft\\credentials\\cdse_credentials.json\")\n",
    "crafter.set_credentials(credentials_path)"
   ]
  },
  {
   "cell_type": "code",
   "execution_count": 3,
   "metadata": {},
   "outputs": [
    {
     "name": "stdout",
     "output_type": "stream",
     "text": [
      "['COP-DEM', 'S2GLC', 'TERRAAQUA', 'SENTINEL-3', 'SENTINEL-5P', 'SENTINEL-1-RTC', 'SENTINEL-1', 'SMOS', 'LANDSAT-7', 'CCM', 'LANDSAT-5', 'LANDSAT-8', 'ENVISAT', 'SENTINEL-6', 'GLOBAL-MOSAICS', 'SENTINEL-2']\n"
     ]
    }
   ],
   "source": [
    "collections = crafter.retrieve_collections()\n",
    "print(collections)"
   ]
  },
  {
   "cell_type": "code",
   "execution_count": 4,
   "metadata": {},
   "outputs": [],
   "source": [
    "arguments = dict(\n",
    "    shp=gpd.read_file(r\"C:\\Users\\hoeh_pa\\Desktop\\EOVoxelCraft\\demo_files\\data\\TUM_OTN.shp.zip\"), \n",
    "    resolution=20,\n",
    "    collection='SENTINEL-2', \n",
    "    start_date='2021-06-01', \n",
    "    end_date='2021-07-15', \n",
    "    download_folder=r'C:\\Users\\hoeh_pa\\Desktop\\EOVoxelCraft\\demo_files\\data\\downloads', \n",
    "    num_workers=8\n",
    "    )"
   ]
  },
  {
   "cell_type": "code",
   "execution_count": 5,
   "metadata": {},
   "outputs": [],
   "source": [
    "items = crafter.search(**arguments)"
   ]
  },
  {
   "cell_type": "code",
   "execution_count": 6,
   "metadata": {},
   "outputs": [],
   "source": [
    "unique_items = list({item.id: item for item in items}.values())"
   ]
  },
  {
   "cell_type": "code",
   "execution_count": 9,
   "metadata": {},
   "outputs": [
    {
     "name": "stdout",
     "output_type": "stream",
     "text": [
      "Selected items: 3\n"
     ]
    },
    {
     "data": {
      "text/plain": [
       "[<Item id=S2B_MSIL2A_20210617T100559_N0300_R022_T32UQU_20210617T131219.SAFE>,\n",
       " <Item id=S2B_MSIL2A_20210710T101559_N0301_R065_T32UQU_20210710T132321.SAFE>,\n",
       " <Item id=S2B_MSIL2A_20210617T100559_N0500_R022_T32UQU_20230321T221728.SAFE>]"
      ]
     },
     "execution_count": 9,
     "metadata": {},
     "output_type": "execute_result"
    }
   ],
   "source": [
    "selected_items = []\n",
    "for item in unique_items:\n",
    "    if item.properties[\"tileId\"] == \"32UQU\" and item.properties['processingLevel'] == \"S2MSI2A\" and item.properties['cloudCover'] < 10.0:\n",
    "        selected_items.append(item)\n",
    "print(f\"Selected items: {len(selected_items)}\")\n",
    "selected_items"
   ]
  },
  {
   "cell_type": "code",
   "execution_count": 8,
   "metadata": {},
   "outputs": [],
   "source": [
    "# cube = crafter.download(selected_items, create_minicube=True, delete_zip=True)\n",
    "output_dir = r\"C:\\Users\\hoeh_pa\\Desktop\\EOVoxelCraft\\demo_files\\data\\downloads\\S2\"\n",
    "cube = crafter.build_minicube(output_dir)"
   ]
  },
  {
   "cell_type": "code",
   "execution_count": null,
   "metadata": {},
   "outputs": [],
   "source": []
  },
  {
   "cell_type": "markdown",
   "metadata": {},
   "source": []
  }
 ],
 "metadata": {
  "kernelspec": {
   "display_name": "sits",
   "language": "python",
   "name": "python3"
  },
  "language_info": {
   "codemirror_mode": {
    "name": "ipython",
    "version": 3
   },
   "file_extension": ".py",
   "mimetype": "text/x-python",
   "name": "python",
   "nbconvert_exporter": "python",
   "pygments_lexer": "ipython3",
   "version": "3.11.3"
  }
 },
 "nbformat": 4,
 "nbformat_minor": 2
}
