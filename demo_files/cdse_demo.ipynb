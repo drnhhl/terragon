{
 "cells": [
  {
   "cell_type": "markdown",
   "metadata": {},
   "source": [
    "The Copernicus Data Space Ecosystem (CDSE) is a comprehensive platform that provides access to a wide range of Earth observation data and services. It is designed to facilitate the discovery, access, and utilization of Copernicus data for various applications, including environmental monitoring, climate change analysis, and resource management.\n",
    "\n",
    "This Jupyter Notebook is specifically tailored for users who are interested in downloading individual files in the .SAFE format from the CDSE. The .SAFE format is a standardized packaging format for Copernicus Sentinel satellite data, which includes both the original imagery and associated metadata.\n",
    "\n",
    "By using this notebook, users can easily access and download specific .SAFE files from the CDSE, enabling them to work with the data in their preferred software environment. Whether you are a researcher, developer, or data enthusiast, this notebook provides a streamlined workflow for obtaining the desired .SAFE files from the Copernicus Data Space Ecosystem."
   ]
  },
  {
   "cell_type": "code",
   "execution_count": 1,
   "metadata": {},
   "outputs": [],
   "source": [
    "import EOVoxelCraft as eovc\n",
    "import geopandas as gpd\n",
    "import json"
   ]
  },
  {
   "cell_type": "code",
   "execution_count": 2,
   "metadata": {},
   "outputs": [],
   "source": [
    "with open(\"/dss/dsshome1/0F/di35viw/EOVoxelCraft/demo_files/credentials.json\") as file:\n",
    "    credentials = json.load(file)\n",
    "\n",
    "cdse = eovc.init('cdse', credentials)"
   ]
  },
  {
   "cell_type": "code",
   "execution_count": 3,
   "metadata": {},
   "outputs": [
    {
     "name": "stdout",
     "output_type": "stream",
     "text": [
      "['COP-DEM', 'S2GLC', 'TERRAAQUA', 'SENTINEL-3', 'SENTINEL-5P', 'SENTINEL-1-RTC', 'SENTINEL-1', 'SMOS', 'LANDSAT-7', 'CCM', 'LANDSAT-5', 'LANDSAT-8', 'ENVISAT', 'SENTINEL-6', 'GLOBAL-MOSAICS', 'SENTINEL-2']\n"
     ]
    }
   ],
   "source": [
    "collections = cdse.retrieve_collections()\n",
    "print(collections)"
   ]
  },
  {
   "cell_type": "code",
   "execution_count": 4,
   "metadata": {},
   "outputs": [],
   "source": [
    "arguments = dict(\n",
    "    shp=gpd.read_file(\"/dss/dsshome1/0F/di35viw/EOVoxelCraft/demo_files/data/TUM_OTN.shp.zip\"), \n",
    "    resolution=20,\n",
    "    collection='SENTINEL-2', \n",
    "    start_date='2021-06-01', \n",
    "    end_date='2021-07-30', \n",
    "    download_folder='/dss/dsshome1/0F/di35viw/EOVoxelCraft/demo_files/downloads', \n",
    "    num_workers=4\n",
    "    )"
   ]
  },
  {
   "cell_type": "code",
   "execution_count": 5,
   "metadata": {},
   "outputs": [],
   "source": [
    "items = cdse.search(**arguments)"
   ]
  },
  {
   "cell_type": "code",
   "execution_count": 10,
   "metadata": {},
   "outputs": [
    {
     "name": "stdout",
     "output_type": "stream",
     "text": [
      "Selected items: 6\n"
     ]
    },
    {
     "data": {
      "text/plain": [
       "[<Item id=S2B_MSIL2A_20210710T101559_N0301_R065_T32UQU_20210710T132321.SAFE>,\n",
       " <Item id=S2A_MSIL2A_20210722T101031_N0301_R022_T32UQU_20210722T120214.SAFE>,\n",
       " <Item id=S2A_MSIL2A_20210722T101031_N0500_R022_T32UQU_20230123T074238.SAFE>,\n",
       " <Item id=S2B_MSIL2A_20210617T100559_N0300_R022_T32UQU_20210617T131219.SAFE>,\n",
       " <Item id=S2A_MSIL2A_20210712T101031_N0500_R022_T32UQU_20230206T131341.SAFE>,\n",
       " <Item id=S2A_MSIL2A_20210712T101031_N0301_R022_T32UQU_20210712T132219.SAFE>]"
      ]
     },
     "execution_count": 10,
     "metadata": {},
     "output_type": "execute_result"
    }
   ],
   "source": [
    "from datetime import datetime\n",
    "from pystac import ItemCollection\n",
    "\n",
    "def filter_unique_items(items, preferred_level, tile_id, max_cloud_cover=50):\n",
    "    def extract(item, key, default=None):\n",
    "        # Extracts values from properties or defaults if not found\n",
    "        return item.properties.get(key, default)\n",
    "\n",
    "    seen = {}\n",
    "    for item in items:\n",
    "        if extract(item, 'tileId') != tile_id:\n",
    "            continue  # Skip items that don't match the specified tileId\n",
    "\n",
    "        date = datetime.strptime(item.id.split('_')[2][:8], '%Y%m%d').date()\n",
    "        level, cloud_cover = extract(item, 'productType'), extract(item, 'cloudCover', 100)\n",
    "        key = (date, tile_id)\n",
    "\n",
    "        if key not in seen or \\\n",
    "           (level == preferred_level and extract(seen[key], 'productType') != preferred_level) or \\\n",
    "           (level == extract(seen[key], 'productType') and cloud_cover < extract(seen[key], 'cloudCover', 100)):\n",
    "\n",
    "            if cloud_cover <= max_cloud_cover:\n",
    "                seen[key] = item\n",
    "\n",
    "    return ItemCollection(seen.values())\n",
    "\n",
    "# Example usage:\n",
    "items_filtered = filter_unique_items(items, preferred_level='S2MSI2A', tile_id='32UPU', max_cloud_cover=50)\n",
    "items_filtered\n"
   ]
  },
  {
   "cell_type": "code",
   "execution_count": 11,
   "metadata": {},
   "outputs": [
    {
     "name": "stdout",
     "output_type": "stream",
     "text": [
      "Failed to download file. Status code: 401\n",
      "{\"detail\":\"Expired signature!\"}\n",
      "Failed to download file. Status code: 401\n",
      "{\"detail\":\"Expired signature!\"}\n",
      "Unzipping to temporary directory: /dss/dsstbyfs02/scratch/0F/di35viw/di35viw/tmp0g6jwrif\n",
      "Extraction to output directory complete: /dss/dsshome1/0F/di35viw/EOVoxelCraft/demo_files/downloads/S2B_MSIL2A_20210710T101559_N0301_R065_T32UQU_20210710T132321.SAFE\n",
      "Extraction to output directory complete: /dss/dsshome1/0F/di35viw/EOVoxelCraft/demo_files/downloads/S2A_MSIL2A_20210722T101031_N0301_R022_T32UQU_20210722T120214.SAFE\n",
      "Extraction to output directory complete: /dss/dsshome1/0F/di35viw/EOVoxelCraft/demo_files/downloads/S2A_MSIL2A_20210722T101031_N0500_R022_T32UQU_20230123T074238.SAFE\n",
      "Extraction to output directory complete: /dss/dsshome1/0F/di35viw/EOVoxelCraft/demo_files/downloads/S2B_MSIL2A_20210617T100559_N0300_R022_T32UQU_20210617T131219.SAFE\n"
     ]
    }
   ],
   "source": [
    "item_dirs = cdse.download(selected_items, create_minicube=False, delete_zip=True)\n",
    "#cube = crafter.download(selected_items, create_minicube=True, delete_zip=True)"
   ]
  },
  {
   "cell_type": "code",
   "execution_count": 13,
   "metadata": {},
   "outputs": [],
   "source": [
    "ds = crafter.build_minicube(arguments['download_folder'])"
   ]
  },
  {
   "cell_type": "code",
   "execution_count": 27,
   "metadata": {},
   "outputs": [],
   "source": [
    "ds = build_minicube(output_dir='/dss/dsshome1/0F/di35viw/EOVoxelCraft/demo_files/downloads', shp='/dss/dsshome1/0F/di35viw/EOVoxelCraft/demo_files/data/TUM_OTN.shp.zip', target_res=10, num_workers=4)"
   ]
  },
  {
   "cell_type": "code",
   "execution_count": 34,
   "metadata": {},
   "outputs": [
    {
     "data": {
      "text/plain": [
       "(696040.0, 5323140.0, 701060.0, 5327460.0)"
      ]
     },
     "execution_count": 34,
     "metadata": {},
     "output_type": "execute_result"
    }
   ],
   "source": [
    "ds.rio.bounds()"
   ]
  },
  {
   "cell_type": "markdown",
   "metadata": {},
   "source": []
  },
  {
   "cell_type": "code",
   "execution_count": 35,
   "metadata": {},
   "outputs": [],
   "source": [
    "gdf = gpd.read_file('/dss/dsshome1/0F/di35viw/EOVoxelCraft/demo_files/data/TUM_OTN.shp.zip')"
   ]
  },
  {
   "cell_type": "code",
   "execution_count": 39,
   "metadata": {},
   "outputs": [
    {
     "data": {
      "text/plain": [
       "array([ 696044.56842919, 5323147.98448889,  701053.32696745,\n",
       "       5327459.48676893])"
      ]
     },
     "execution_count": 39,
     "metadata": {},
     "output_type": "execute_result"
    }
   ],
   "source": [
    "gdf = gdf.to_crs(ds.rio.crs)\n",
    "gdf.total_bounds"
   ]
  },
  {
   "cell_type": "code",
   "execution_count": null,
   "metadata": {},
   "outputs": [],
   "source": []
  }
 ],
 "metadata": {
  "kernelspec": {
   "display_name": "sits",
   "language": "python",
   "name": "python3"
  },
  "language_info": {
   "codemirror_mode": {
    "name": "ipython",
    "version": 3
   },
   "file_extension": ".py",
   "mimetype": "text/x-python",
   "name": "python",
   "nbconvert_exporter": "python",
   "pygments_lexer": "ipython3",
   "version": "3.12.2"
  }
 },
 "nbformat": 4,
 "nbformat_minor": 2
}
