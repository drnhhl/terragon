{
 "cells": [
  {
   "cell_type": "code",
   "execution_count": 1,
   "metadata": {},
   "outputs": [
    {
     "name": "stderr",
     "output_type": "stream",
     "text": [
      "c:\\Users\\hoeh_pa\\AppData\\Local\\miniconda3\\envs\\sits\\Lib\\site-packages\\tqdm\\auto.py:21: TqdmWarning: IProgress not found. Please update jupyter and ipywidgets. See https://ipywidgets.readthedocs.io/en/stable/user_install.html\n",
      "  from .autonotebook import tqdm as notebook_tqdm\n"
     ]
    }
   ],
   "source": [
    "import EOVoxelCraft as eovc\n",
    "import geopandas as gpd\n",
    "from pathlib import Path"
   ]
  },
  {
   "cell_type": "markdown",
   "metadata": {},
   "source": []
  },
  {
   "cell_type": "code",
   "execution_count": 2,
   "metadata": {},
   "outputs": [],
   "source": [
    "crafter = eovc.init('cdse')\n",
    "credentials_path = Path(r\"C:\\Users\\hoeh_pa\\Desktop\\EOVoxelCraft\\credentials\\cdse_credentials.json\")\n",
    "crafter.set_credentials(credentials_path)"
   ]
  },
  {
   "cell_type": "code",
   "execution_count": 3,
   "metadata": {},
   "outputs": [
    {
     "name": "stdout",
     "output_type": "stream",
     "text": [
      "['COP-DEM', 'S2GLC', 'TERRAAQUA', 'SENTINEL-3', 'SENTINEL-5P', 'SENTINEL-1-RTC', 'SENTINEL-1', 'SMOS', 'LANDSAT-7', 'CCM', 'LANDSAT-5', 'LANDSAT-8', 'ENVISAT', 'SENTINEL-6', 'GLOBAL-MOSAICS', 'SENTINEL-2']\n"
     ]
    }
   ],
   "source": [
    "collections = crafter.retrieve_collections()\n",
    "print(collections)"
   ]
  },
  {
   "cell_type": "code",
   "execution_count": 4,
   "metadata": {},
   "outputs": [],
   "source": [
    "gdf = gpd.read_file(r\"C:\\Users\\hoeh_pa\\Desktop\\EOVoxelCraft\\demo_files\\data\\TUM_OTN.shp\")\n",
    "gdf['geometry'] = gdf['geometry']\n",
    "arguments = dict(\n",
    "    shp=gdf, \n",
    "    bands=['B02', 'B03', 'B04'],\n",
    "    resolution=20,\n",
    "    collection='SENTINEL-2', \n",
    "    start_date='2021-06-01', \n",
    "    end_date='2021-07-10', \n",
    "    download_folder=r'C:\\Users\\hoeh_pa\\Desktop\\EOVoxelCraft\\demo_files\\data\\downloads', \n",
    "    num_workers=8\n",
    "    )"
   ]
  },
  {
   "cell_type": "code",
   "execution_count": 5,
   "metadata": {},
   "outputs": [],
   "source": [
    "items = crafter.search(**arguments)"
   ]
  },
  {
   "cell_type": "code",
   "execution_count": 9,
   "metadata": {},
   "outputs": [
    {
     "data": {
      "text/plain": [
       "'S2A_MSIL2A_20210602T101031_N0500_R022_T32UPU_20230313T040411.SAFE'"
      ]
     },
     "execution_count": 9,
     "metadata": {},
     "output_type": "execute_result"
    }
   ],
   "source": [
    "items[0].id"
   ]
  },
  {
   "cell_type": "code",
   "execution_count": null,
   "metadata": {},
   "outputs": [],
   "source": [
    "selected_items = []\n",
    "for item in items:\n",
    "    if item.properties[\"tileId\"] == \"32UPU\" and item.properties['processingLevel'] == \"S2MSIL2A\" and item.properties['cloudCover'] < 10.0:\n",
    "        selected_items.append(item)\n",
    "print(f\"Selected items: {len(selected_items)}\")"
   ]
  },
  {
   "cell_type": "code",
   "execution_count": null,
   "metadata": {},
   "outputs": [],
   "source": [
    "import odc.stac \n",
    "bounds = list(crafter.get_param('shp', raise_error=True).bounds.values[0])\n",
    "crs = crafter.get_param('shp', raise_error=True).crs\n",
    "data = odc.stac.load(\n",
    "    items, \n",
    "    crs=crs.to_epsg(), \n",
    "    resolution=20,\n",
    "    )"
   ]
  },
  {
   "cell_type": "markdown",
   "metadata": {},
   "source": []
  }
 ],
 "metadata": {
  "kernelspec": {
   "display_name": "sits",
   "language": "python",
   "name": "python3"
  },
  "language_info": {
   "codemirror_mode": {
    "name": "ipython",
    "version": 3
   },
   "file_extension": ".py",
   "mimetype": "text/x-python",
   "name": "python",
   "nbconvert_exporter": "python",
   "pygments_lexer": "ipython3",
   "version": "3.11.3"
  }
 },
 "nbformat": 4,
 "nbformat_minor": 2
}
